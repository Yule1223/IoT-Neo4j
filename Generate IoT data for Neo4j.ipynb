{
 "cells": [
  {
   "cell_type": "markdown",
   "id": "9cf6d1ad",
   "metadata": {},
   "source": [
    "# Generate 20,000 new random data"
   ]
  },
  {
   "cell_type": "code",
   "execution_count": 7,
   "id": "f5d3b252",
   "metadata": {},
   "outputs": [
    {
     "name": "stdout",
     "output_type": "stream",
     "text": [
      "Excel file created successfully!\n"
     ]
    }
   ],
   "source": [
    "# Import the necessary libraries\n",
    "import openpyxl #Library for creating Excel files\n",
    "import pandas as pd #Library for data handling\n",
    "import random #Library for random data picking\n",
    "\n",
    "# Data preparation\n",
    "model_list = ['Model 1', 'Model 2', 'Model 3', 'Model 4', 'Model 5', 'Model 6', 'Model 7', 'Model 8', 'Model 9']\n",
    "sensor_type_list = ['Temperature', 'Humidity', 'Accelerometer', 'Proximity', 'Light', 'Color', 'GPS']\n",
    "floor_list = ['GF', '1F', '2F', '3F', '4F', '5F']\n",
    "room_list = ['A', 'B', 'C', 'D', 'E', 'F', 'G', 'H', 'I', 'J', 'K', 'L', 'M', 'N', 'O','P','Q']\n",
    "vendor_list = ['Vendor 1', 'Vendor 2', 'Vendor 3', 'Vendor 4', 'Vendor 5', 'Vendor 6', 'Vendor 7', \n",
    "               'Vendor 8', 'Vendor 9']\n",
    "manufacturer_list = ['Manufacturer 1', 'Manufacturer 2', 'Manufacturer 3', 'Manufacturer 4', \n",
    "                     'Manufacturer 5', 'Manufacturer 6', 'Manufacturer 7', 'Manufacturer 8', 'Manufacturer 9']\n",
    "customer_list = ['Application 1', 'Application 2', 'Application 3', 'Application 4', 'Application 5', \n",
    "                 'Dashboard 1', 'Dashboard 2', 'Dashboard 3', 'Dashboard 4', 'Dashboard 5']\n",
    "protocol_list = ['LoRaWAN', 'Sigfox', 'NB-IoT', 'Zigbee', 'MQTT', 'Bluetooth']\n",
    "\n",
    "\n",
    "# Create a new Excel workbook\n",
    "workbook = openpyxl.Workbook()\n",
    "# Select the default sheet (usually named 'Sheet')\n",
    "sheet = workbook.active\n",
    "# Add data to the Excel sheet\n",
    "data = [\n",
    "    [\"device_name\", \"model\", \"type\", \"floor\", \"room\", \"vendor_name\", \"manufacturer_name\",\n",
    "     \"sensor_type\", \"customer_name\", \"protocol\"],\n",
    "]\n",
    "# Generating 20,000 new random data\n",
    "for i in range(20000):\n",
    "    num = str(i + 1);\n",
    "    # Pick a random element from a list of strings\n",
    "    model = random.choice(model_list)\n",
    "    floor = random.choice(floor_list)\n",
    "    room = random.choice(room_list)\n",
    "    vendor = random.choice(vendor_list)\n",
    "    manufacturer = random.choice(manufacturer_list)\n",
    "    sensor_type = random.choice(sensor_type_list)\n",
    "    customer = random.choice(customer_list)\n",
    "    protocol = random.choice(protocol_list)\n",
    "    # Add new line\n",
    "    data.append([\"Edge Device \" + num, model, sensor_type + \" control\", floor, room, vendor, \n",
    "                 manufacturer, sensor_type, customer, protocol])\n",
    "\n",
    "for row in data:\n",
    "    sheet.append(row)\n",
    "# Save the workbook to a file\n",
    "workbook.save(\"Edge devices 20000.xlsx\")\n",
    "# Print a success message\n",
    "print(\"Excel file created successfully!\")"
   ]
  },
  {
   "cell_type": "markdown",
   "id": "9e0b7fe4",
   "metadata": {},
   "source": [
    "# Generate 5,000 new random data"
   ]
  },
  {
   "cell_type": "code",
   "execution_count": 8,
   "id": "160b457e",
   "metadata": {},
   "outputs": [
    {
     "name": "stdout",
     "output_type": "stream",
     "text": [
      "Excel file created successfully!\n"
     ]
    }
   ],
   "source": [
    "# Import the necessary libraries\n",
    "import openpyxl #Library for creating Excel files\n",
    "import pandas as pd #Library for data handling\n",
    "import random #Library for random data picking\n",
    "\n",
    "# Data preparation\n",
    "model_list = ['Model 1', 'Model 2', 'Model 3', 'Model 4', 'Model 5', 'Model 6', 'Model 7', 'Model 8', 'Model 9']\n",
    "sensor_type_list = ['Temperature', 'Humidity', 'Accelerometer', 'Proximity', 'Light', 'Color', 'GPS']\n",
    "floor_list = ['GF', '1F', '2F', '3F', '4F', '5F']\n",
    "room_list = ['A', 'B', 'C', 'D', 'E', 'F', 'G', 'H', 'I', 'J', 'K', 'L', 'M', 'N', 'O','P','Q']\n",
    "vendor_list = ['Vendor 1', 'Vendor 2', 'Vendor 3', 'Vendor 4', 'Vendor 5', 'Vendor 6', 'Vendor 7', \n",
    "               'Vendor 8', 'Vendor 9']\n",
    "manufacturer_list = ['Manufacturer 1', 'Manufacturer 2', 'Manufacturer 3', 'Manufacturer 4', \n",
    "                     'Manufacturer 5', 'Manufacturer 6', 'Manufacturer 7', 'Manufacturer 8', 'Manufacturer 9']\n",
    "customer_list = ['Application 1', 'Application 2', 'Application 3', 'Application 4', 'Application 5', \n",
    "                 'Dashboard 1', 'Dashboard 2', 'Dashboard 3', 'Dashboard 4', 'Dashboard 5']\n",
    "protocol_list = ['LoRaWAN', 'Sigfox', 'NB-IoT', 'Zigbee', 'MQTT', 'Bluetooth']\n",
    "\n",
    "\n",
    "# Create a new Excel workbook\n",
    "workbook = openpyxl.Workbook()\n",
    "# Select the default sheet (usually named 'Sheet')\n",
    "sheet = workbook.active\n",
    "# Add data to the Excel sheet\n",
    "data = [\n",
    "    [\"device_name\", \"model\", \"type\", \"floor\", \"room\", \"vendor_name\", \"manufacturer_name\",\n",
    "     \"sensor_type\", \"customer_name\", \"protocol\"],\n",
    "]\n",
    "# Generating 5000 new random data\n",
    "for i in range(5000):\n",
    "    num = str(i + 1);\n",
    "    # Pick a random element from a list of strings\n",
    "    model = random.choice(model_list)\n",
    "    floor = random.choice(floor_list)\n",
    "    room = random.choice(room_list)\n",
    "    vendor = random.choice(vendor_list)\n",
    "    manufacturer = random.choice(manufacturer_list)\n",
    "    sensor_type = random.choice(sensor_type_list)\n",
    "    customer = random.choice(customer_list)\n",
    "    protocol = random.choice(protocol_list)\n",
    "    # Add new line\n",
    "    data.append([\"Edge Device \" + num, model, sensor_type + \" control\", floor, room, vendor, \n",
    "                 manufacturer, sensor_type, customer, protocol])\n",
    "\n",
    "for row in data:\n",
    "    sheet.append(row)\n",
    "# Save the workbook to a file\n",
    "workbook.save(\"Edge devices 5000.xlsx\")\n",
    "# Print a success message\n",
    "print(\"Excel file created successfully!\")"
   ]
  },
  {
   "cell_type": "code",
   "execution_count": null,
   "id": "4469038b",
   "metadata": {},
   "outputs": [],
   "source": []
  }
 ],
 "metadata": {
  "kernelspec": {
   "display_name": "Python 3 (ipykernel)",
   "language": "python",
   "name": "python3"
  },
  "language_info": {
   "codemirror_mode": {
    "name": "ipython",
    "version": 3
   },
   "file_extension": ".py",
   "mimetype": "text/x-python",
   "name": "python",
   "nbconvert_exporter": "python",
   "pygments_lexer": "ipython3",
   "version": "3.9.13"
  }
 },
 "nbformat": 4,
 "nbformat_minor": 5
}
