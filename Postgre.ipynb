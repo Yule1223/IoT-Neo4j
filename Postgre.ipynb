{
 "cells": [
  {
   "cell_type": "code",
   "execution_count": 5,
   "id": "4062de37",
   "metadata": {},
   "outputs": [
    {
     "name": "stdout",
     "output_type": "stream",
     "text": [
      "Requirement already satisfied: psycopg2 in /Users/yule/opt/anaconda3/lib/python3.9/site-packages (2.9.9)\n",
      "Note: you may need to restart the kernel to use updated packages.\n"
     ]
    }
   ],
   "source": [
    "# Install first the package\n",
    "pip install psycopg2"
   ]
  },
  {
   "cell_type": "markdown",
   "id": "f608af3d",
   "metadata": {},
   "source": [
    "# Import csv for 5000 edge devices group"
   ]
  },
  {
   "cell_type": "markdown",
   "id": "eb65c6ae",
   "metadata": {},
   "source": [
    "Import for table thing"
   ]
  },
  {
   "cell_type": "code",
   "execution_count": 50,
   "id": "fdc68ab7",
   "metadata": {},
   "outputs": [],
   "source": [
    "import pandas as pd\n",
    "\n",
    "import_thing = 'https://docs.google.com/spreadsheets/d/e/2PACX-1vSnoNALQEt7aonJujF-6Ma6lm9EeU6lDvnQTHXCll2pRWSqRM9chY6do36m_Rp-1P_knmpY4bdr9ev9/pub?output=csv';\n",
    "\n",
    "data = pd.read_csv(import_thing);\n",
    "for i in range(len(data)):\n",
    "    data.loc[i]['vendorID'] = int(data.loc[i]['vendorID'][7:8]);\n",
    "    data.loc[i]['manufacturerID'] = int(data.loc[i]['manufacturerID'][13:14]);\n",
    "\n",
    "data.to_csv(\"import_thing.csv\", index=False)\n"
   ]
  },
  {
   "cell_type": "markdown",
   "id": "8334e382",
   "metadata": {},
   "source": [
    "Import for table thingcustomer"
   ]
  },
  {
   "cell_type": "code",
   "execution_count": 51,
   "id": "93c63918",
   "metadata": {},
   "outputs": [],
   "source": [
    "import_thingcustomer = 'https://docs.google.com/spreadsheets/d/e/2PACX-1vQfaiOssmeWltKbdzGX8IqprytevodSu7XJSpreGoMvza_Vg1G59CZKaLz7FA3YZKIo6-SHq2kpwUAe/pub?output=csv';\n",
    "\n",
    "data = pd.read_csv(import_thingcustomer);\n",
    "for i in range(len(data)):\n",
    "    data.loc[i]['thingid'] = int(data.loc[i]['thingid'][12:13]);\n",
    "    s = data.loc[i]['customerid'];\n",
    "    if (s == 'Application 1'):\n",
    "        s = 1;\n",
    "    elif (s == 'Application 2'):\n",
    "        s = 2;\n",
    "    elif (s == 'Application 3'):\n",
    "        s = 3;\n",
    "    elif (s == 'Application 4'):\n",
    "        s = 4;\n",
    "    elif (s == 'Application 5'):\n",
    "        s = 5;\n",
    "    elif (s == 'Dashboard 1'):\n",
    "        s = 6;\n",
    "    elif (s == 'Dashboard 2'):\n",
    "        s = 7;\n",
    "    elif (s == 'Dashboard 3'):\n",
    "        s = 8;\n",
    "    elif (s == 'Dashboard 4'):\n",
    "        s = 9;\n",
    "    elif (s == 'Dashboard 5'):\n",
    "        s = 10;\n",
    "    data.loc[i]['customerid'] = int(s);\n",
    "\n",
    "data.to_csv(\"import_thingcustomer.csv\", index=False)"
   ]
  },
  {
   "cell_type": "markdown",
   "id": "03495233",
   "metadata": {},
   "source": [
    "Import for table thingsensortype"
   ]
  },
  {
   "cell_type": "code",
   "execution_count": 52,
   "id": "00ce5b74",
   "metadata": {},
   "outputs": [],
   "source": [
    "import_thingsensortype = 'https://docs.google.com/spreadsheets/d/e/2PACX-1vTjQlxuqw1kaNWsSwRFZHH7fHFV4N54jlw6c7jzT4Nk9OALJzzRwaxTdxP_7EusdFfS5Cb3ZL1BiW5f/pub?output=csv';\n",
    "\n",
    "data = pd.read_csv(import_thingsensortype);\n",
    "for i in range(len(data)):\n",
    "    data.loc[i]['thingid'] = int(data.loc[i]['thingid'][12:13]);\n",
    "    s = data.loc[i]['sensortypeid'];\n",
    "    if (s == 'Temperature'):\n",
    "        s = 1;\n",
    "    elif (s == 'Humidity'):\n",
    "        s = 2;\n",
    "    elif (s == 'Accelerometer'):\n",
    "        s = 3;\n",
    "    elif (s == 'Proximity'):\n",
    "        s = 4;\n",
    "    elif (s == 'Light'):\n",
    "        s = 5;\n",
    "    elif (s == 'Color'):\n",
    "        s = 6;\n",
    "    elif (s == 'GPS'):\n",
    "        s = 7;\n",
    "    data.loc[i]['sensortypeid'] = int(s);\n",
    "\n",
    "data.to_csv(\"import_thingsensortype.csv\", index=False) "
   ]
  },
  {
   "cell_type": "markdown",
   "id": "639b33c9",
   "metadata": {},
   "source": [
    "# Import csv for 20000 edge devices group"
   ]
  },
  {
   "cell_type": "markdown",
   "id": "c776290f",
   "metadata": {},
   "source": [
    "Import for table thing"
   ]
  },
  {
   "cell_type": "code",
   "execution_count": 45,
   "id": "d2f6aa0c",
   "metadata": {},
   "outputs": [],
   "source": [
    "import pandas as pd\n",
    "\n",
    "import_thing = 'https://docs.google.com/spreadsheets/d/e/2PACX-1vSviQ02f_tuvZW2DwsTYSYTDqRyn4UfIS-OzQqrz2TT8ewAeeXpLG4XBx1nQZvQt4CRsW32VUeztk6A/pub?output=csv';\n",
    "\n",
    "data = pd.read_csv(import_thing);\n",
    "for i in range(len(data)):\n",
    "    data.loc[i]['vendorID'] = int(data.loc[i]['vendorID'][7:8]);\n",
    "    data.loc[i]['manufacturerID'] = int(data.loc[i]['manufacturerID'][13:14]);\n",
    "\n",
    "data.to_csv(\"import_thing20000.csv\", index=False)"
   ]
  },
  {
   "cell_type": "markdown",
   "id": "a02b639f",
   "metadata": {},
   "source": [
    "Import for table thingcustomer"
   ]
  },
  {
   "cell_type": "code",
   "execution_count": 46,
   "id": "8084425d",
   "metadata": {},
   "outputs": [],
   "source": [
    "import_thingcustomer = 'https://docs.google.com/spreadsheets/d/e/2PACX-1vRvZhRFv8qUAeNdLF2nlz9AIbl1Lcp6BELYBetE6s1ex5iLEgGrDFAU5-sn3klXZUDRvdxIQdPvgQ9v/pub?output=csv';\n",
    "\n",
    "data = pd.read_csv(import_thingcustomer);\n",
    "for i in range(len(data)):\n",
    "    data.loc[i]['thingid'] = int(data.loc[i]['thingid'][12:13]);\n",
    "    s = data.loc[i]['customerid'];\n",
    "    if (s == 'Application 1'):\n",
    "        s = 1;\n",
    "    elif (s == 'Application 2'):\n",
    "        s = 2;\n",
    "    elif (s == 'Application 3'):\n",
    "        s = 3;\n",
    "    elif (s == 'Application 4'):\n",
    "        s = 4;\n",
    "    elif (s == 'Application 5'):\n",
    "        s = 5;\n",
    "    elif (s == 'Dashboard 1'):\n",
    "        s = 6;\n",
    "    elif (s == 'Dashboard 2'):\n",
    "        s = 7;\n",
    "    elif (s == 'Dashboard 3'):\n",
    "        s = 8;\n",
    "    elif (s == 'Dashboard 4'):\n",
    "        s = 9;\n",
    "    elif (s == 'Dashboard 5'):\n",
    "        s = 10;\n",
    "    data.loc[i]['customerid'] = int(s);\n",
    "\n",
    "data.to_csv(\"import_thingcustomer20000.csv\", index=False)"
   ]
  },
  {
   "cell_type": "markdown",
   "id": "4cab9f0a",
   "metadata": {},
   "source": [
    "Import for table thingsensortype"
   ]
  },
  {
   "cell_type": "code",
   "execution_count": 47,
   "id": "b3e82a98",
   "metadata": {},
   "outputs": [],
   "source": [
    "import_thingsensortype = 'https://docs.google.com/spreadsheets/d/e/2PACX-1vS0VQ14gsZxUM40CknGN9qKmp7e5qYyzydILdpPtfygxoO5dmTiiPqqd1bCtZ1FAyHZYmxq_lhLxOHj/pub?output=csv';\n",
    "\n",
    "data = pd.read_csv(import_thingsensortype);\n",
    "for i in range(len(data)):\n",
    "    data.loc[i]['thingid'] = int(data.loc[i]['thingid'][12:13]);\n",
    "    s = data.loc[i]['sensortypeid'];\n",
    "    if (s == 'Temperature'):\n",
    "        s = 1;\n",
    "    elif (s == 'Humidity'):\n",
    "        s = 2;\n",
    "    elif (s == 'Accelerometer'):\n",
    "        s = 3;\n",
    "    elif (s == 'Proximity'):\n",
    "        s = 4;\n",
    "    elif (s == 'Light'):\n",
    "        s = 5;\n",
    "    elif (s == 'Color'):\n",
    "        s = 6;\n",
    "    elif (s == 'GPS'):\n",
    "        s = 7;\n",
    "    data.loc[i]['sensortypeid'] = int(s);\n",
    "\n",
    "data.to_csv(\"import_thingsensortype20000.csv\", index=False) "
   ]
  },
  {
   "cell_type": "markdown",
   "id": "58af8bb9",
   "metadata": {},
   "source": [
    "# Import local csv to PostgreSQL"
   ]
  },
  {
   "cell_type": "markdown",
   "id": "a256c967",
   "metadata": {},
   "source": [
    "For table thing 5000 edge devices group"
   ]
  },
  {
   "cell_type": "code",
   "execution_count": 56,
   "id": "618af71c",
   "metadata": {},
   "outputs": [],
   "source": [
    "import psycopg2\n",
    "\n",
    "# Database connection parameters\n",
    "conn = psycopg2.connect(\n",
    "    dbname='postgres',\n",
    "    user='',\n",
    "    password='',\n",
    "    host='',\n",
    "    port=''\n",
    ")\n",
    "\n",
    "# Create a cursor object\n",
    "cur = conn.cursor()\n",
    "\n",
    "# Path to your CSV file\n",
    "csv_file_path = '/Users/yule/Downloads/import_thing.csv'\n",
    "\n",
    "# Open the CSV file\n",
    "with open(csv_file_path, 'r') as f:\n",
    "    # Use the copy_expert method to execute the COPY command\n",
    "    cur.copy_expert(\"COPY thing(device_name, model, type, floor, room, vendorid, manufacturerid) FROM STDIN WITH CSV HEADER\", f)\n",
    "\n",
    "# Commit the transaction\n",
    "conn.commit()\n",
    "\n",
    "# Close the cursor and connection\n",
    "cur.close()\n",
    "conn.close()\n"
   ]
  },
  {
   "cell_type": "markdown",
   "id": "d6ef128b",
   "metadata": {},
   "source": [
    "For table thingcustomer 5000 edge devices group"
   ]
  },
  {
   "cell_type": "code",
   "execution_count": 57,
   "id": "3e38d4ea",
   "metadata": {},
   "outputs": [],
   "source": [
    "# Database connection parameters\n",
    "conn = psycopg2.connect(\n",
    "    dbname='postgres',\n",
    "    user='',\n",
    "    password='',\n",
    "    host='',\n",
    "    port=''\n",
    ")\n",
    "\n",
    "# Create a cursor object\n",
    "cur = conn.cursor()\n",
    "\n",
    "# Path to your CSV file\n",
    "csv_file_path = '/Users/yule/Downloads/import_thingcustomer.csv'\n",
    "\n",
    "# Open the CSV file\n",
    "with open(csv_file_path, 'r') as f:\n",
    "    # Use the copy_expert method to execute the COPY command\n",
    "    cur.copy_expert(\"COPY thingcustomer(thingid, customerid, protocol) FROM STDIN WITH CSV HEADER\", f)\n",
    "\n",
    "# Commit the transaction\n",
    "conn.commit()\n",
    "\n",
    "# Close the cursor and connection\n",
    "cur.close()\n",
    "conn.close()\n"
   ]
  },
  {
   "cell_type": "markdown",
   "id": "91408598",
   "metadata": {},
   "source": [
    "For table thingsensortype 5000 edge devices group"
   ]
  },
  {
   "cell_type": "code",
   "execution_count": 58,
   "id": "b161e950",
   "metadata": {},
   "outputs": [],
   "source": [
    "# Database connection parameters\n",
    "conn = psycopg2.connect(\n",
    "    dbname='postgres',\n",
    "    user='',\n",
    "    password='',\n",
    "    host='',\n",
    "    port=''\n",
    ")\n",
    "\n",
    "# Create a cursor object\n",
    "cur = conn.cursor()\n",
    "\n",
    "# Path to your CSV file\n",
    "csv_file_path = '/Users/yule/Downloads/import_thingsensortype.csv'\n",
    "\n",
    "# Open the CSV file\n",
    "with open(csv_file_path, 'r') as f:\n",
    "    # Use the copy_expert method to execute the COPY command\n",
    "    cur.copy_expert(\"COPY thingsensortype(thingid, sensortypeid) FROM STDIN WITH CSV HEADER\", f)\n",
    "\n",
    "# Commit the transaction\n",
    "conn.commit()\n",
    "\n",
    "# Close the cursor and connection\n",
    "cur.close()\n",
    "conn.close()\n"
   ]
  },
  {
   "cell_type": "markdown",
   "id": "d1471e0a",
   "metadata": {},
   "source": [
    "For table thing 20000 edge devices group"
   ]
  },
  {
   "cell_type": "code",
   "execution_count": 63,
   "id": "0f9e03c4",
   "metadata": {},
   "outputs": [],
   "source": [
    "import psycopg2\n",
    "\n",
    "# Database connection parameters\n",
    "conn = psycopg2.connect(\n",
    "    dbname='postgres',\n",
    "    user='',\n",
    "    password='',\n",
    "    host='',\n",
    "    port=''\n",
    ")\n",
    "\n",
    "# Create a cursor object\n",
    "cur = conn.cursor()\n",
    "\n",
    "# Path to your CSV file\n",
    "csv_file_path = '/Users/yule/Downloads/import_thing20000.csv'\n",
    "\n",
    "# Open the CSV file\n",
    "with open(csv_file_path, 'r') as f:\n",
    "    # Use the copy_expert method to execute the COPY command\n",
    "    cur.copy_expert(\"COPY thing(device_name, model, type, floor, room, vendorid, manufacturerid) FROM STDIN WITH CSV HEADER\", f)\n",
    "\n",
    "# Commit the transaction\n",
    "conn.commit()\n",
    "\n",
    "# Close the cursor and connection\n",
    "cur.close()\n",
    "conn.close()"
   ]
  },
  {
   "cell_type": "markdown",
   "id": "d0d03f61",
   "metadata": {},
   "source": [
    "For table thingcustomer 20000 edge devices group"
   ]
  },
  {
   "cell_type": "code",
   "execution_count": 64,
   "id": "ebf2f4fb",
   "metadata": {},
   "outputs": [],
   "source": [
    "# Database connection parameters\n",
    "conn = psycopg2.connect(\n",
    "    dbname='postgres',\n",
    "    user='',\n",
    "    password='',\n",
    "    host='',\n",
    "    port=''\n",
    ")\n",
    "\n",
    "# Create a cursor object\n",
    "cur = conn.cursor()\n",
    "\n",
    "# Path to your CSV file\n",
    "csv_file_path = '/Users/yule/Downloads/import_thingcustomer20000.csv'\n",
    "\n",
    "# Open the CSV file\n",
    "with open(csv_file_path, 'r') as f:\n",
    "    # Use the copy_expert method to execute the COPY command\n",
    "    cur.copy_expert(\"COPY thingcustomer(thingid, customerid, protocol) FROM STDIN WITH CSV HEADER\", f)\n",
    "\n",
    "# Commit the transaction\n",
    "conn.commit()\n",
    "\n",
    "# Close the cursor and connection\n",
    "cur.close()\n",
    "conn.close()"
   ]
  },
  {
   "cell_type": "markdown",
   "id": "52ec0900",
   "metadata": {},
   "source": [
    "For table thingsensortype 20000 edge devices group"
   ]
  },
  {
   "cell_type": "code",
   "execution_count": 65,
   "id": "416997df",
   "metadata": {},
   "outputs": [],
   "source": [
    "# Database connection parameters\n",
    "conn = psycopg2.connect(\n",
    "    dbname='postgres',\n",
    "    user='',\n",
    "    password='',\n",
    "    host='',\n",
    "    port=''\n",
    ")\n",
    "\n",
    "# Create a cursor object\n",
    "cur = conn.cursor()\n",
    "\n",
    "# Path to your CSV file\n",
    "csv_file_path = '/Users/yule/Downloads/import_thingsensortype20000.csv'\n",
    "\n",
    "# Open the CSV file\n",
    "with open(csv_file_path, 'r') as f:\n",
    "    # Use the copy_expert method to execute the COPY command\n",
    "    cur.copy_expert(\"COPY thingsensortype(thingid, sensortypeid) FROM STDIN WITH CSV HEADER\", f)\n",
    "\n",
    "# Commit the transaction\n",
    "conn.commit()\n",
    "\n",
    "# Close the cursor and connection\n",
    "cur.close()\n",
    "conn.close()"
   ]
  },
  {
   "cell_type": "code",
   "execution_count": null,
   "id": "f993f835",
   "metadata": {},
   "outputs": [],
   "source": []
  }
 ],
 "metadata": {
  "kernelspec": {
   "display_name": "Python 3 (ipykernel)",
   "language": "python",
   "name": "python3"
  },
  "language_info": {
   "codemirror_mode": {
    "name": "ipython",
    "version": 3
   },
   "file_extension": ".py",
   "mimetype": "text/x-python",
   "name": "python",
   "nbconvert_exporter": "python",
   "pygments_lexer": "ipython3",
   "version": "3.9.13"
  }
 },
 "nbformat": 4,
 "nbformat_minor": 5
}
